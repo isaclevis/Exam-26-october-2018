{
 "cells": [
  {
   "cell_type": "markdown",
   "metadata": {},
   "source": [
    "# Exam R\n",
    "Mark Klik & Misja Mikkers\n",
    "\n",
    "# Introduction\n",
    "\n",
    "Before you turn this problem in, make sure everything runs as expected. First, **restart the kernel** (in the menubar, select Kernel$\\rightarrow$Restart) and then **run all cells** (in the menubar, select Cell$\\rightarrow$Run All).\n",
    "\n",
    "Make sure you fill in any place that says `YOUR CODE HERE` or \"YOUR ANSWER HERE\", as well as your name and collaborators below:\n"
   ]
  },
  {
   "cell_type": "code",
   "execution_count": 41,
   "metadata": {},
   "outputs": [],
   "source": [
    "NAME = \"Isa Clevis, #2011221#\"\n",
    "COLLABORATORS = \"\""
   ]
  },
  {
   "cell_type": "markdown",
   "metadata": {},
   "source": [
    "Fill in the cell above to provide us with your name and student number, like\n",
    "\n",
    "NAME = \"Adam Smith, #student number#\"\n",
    "\n",
    "where you replace \"#student number#\" with your ... (very good!)\n",
    "\n",
    "Unfortunately, you are not allowed to work with \"COLLABORATORS\" in this exam.\n",
    "\n",
    "## exam October 26th, 2018\n",
    "\n",
    "With this R part of the exam you can earn at max. 4 points.\n",
    "\n",
    "In the first cell of the notebook, give us your name and student number in the way indicated above.\n",
    "\n",
    "Fill in the notebook (see below for code cells and text cells that you need to fill in).\n",
    "\n",
    "If you look at the menus above (File, Edit, View etc.), there is one called \"Cell\". If you click on this, you can change the \"Cell Type\". Choose \"Code\" when you are typing python or R code. Choose \"Markdown\" when you are typing, well, markdown.\n",
    "\n",
    "When you finish the notebook, make sure that you save it with the output of your code included.\n",
    "\n",
    "Then put it on github, e.g. by dragging it onto github (see instructions below).\n",
    "\n",
    "Finally, add a link to your README file with the name of this exam: \"Exam R September 7, 2018\".\n",
    "\n",
    "# Packages\n",
    "\n",
    "You will need the following packages for this exam."
   ]
  },
  {
   "cell_type": "code",
   "execution_count": 42,
   "metadata": {},
   "outputs": [],
   "source": [
    "library(tidyverse)"
   ]
  },
  {
   "cell_type": "markdown",
   "metadata": {},
   "source": [
    "# Assignment 1\n",
    "\n",
    "## Data\n",
    "\n",
    "Please read in \"resit.csv\" and check the structure.\n",
    "\n",
    "If needed change the variables e and x1 into a numeric variable.\n",
    "\n",
    "Hint: don't forget you cannot change a factor in a numeric variable directly!\n"
   ]
  },
  {
   "cell_type": "code",
   "execution_count": 43,
   "metadata": {},
   "outputs": [
    {
     "name": "stdout",
     "output_type": "stream",
     "text": [
      "'data.frame':\t100 obs. of  3 variables:\n",
      " $ Obs: int  1 2 3 4 5 6 7 8 9 10 ...\n",
      " $ e  : num  47 58.9 55.6 51.5 49.2 ...\n",
      " $ x1 : num  0.3 23.39 9.4 5.24 4.63 ...\n"
     ]
    }
   ],
   "source": [
    "resit <- read.csv2(\"resit.csv\")\n",
    "str(resit)"
   ]
  },
  {
   "cell_type": "markdown",
   "metadata": {},
   "source": [
    "# Data manipulation\n",
    "\n",
    "We will construct the variable \"y\". You have to create the variable \"y\" with the formula:\n",
    "\n",
    "$$ 10 + 3*x1 + e $$\n",
    "\n",
    "Show the head of your data"
   ]
  },
  {
   "cell_type": "code",
   "execution_count": 44,
   "metadata": {},
   "outputs": [
    {
     "data": {
      "text/html": [
       "<table>\n",
       "<thead><tr><th scope=col>Obs</th><th scope=col>e</th><th scope=col>x1</th><th scope=col>y</th></tr></thead>\n",
       "<tbody>\n",
       "\t<tr><td>1         </td><td>47.00774  </td><td> 0.3003487</td><td> 57.90879 </td></tr>\n",
       "\t<tr><td>2         </td><td>58.86894  </td><td>23.3893148</td><td>139.03688 </td></tr>\n",
       "\t<tr><td>3         </td><td>55.57487  </td><td> 9.3985674</td><td> 93.77057 </td></tr>\n",
       "\t<tr><td>4         </td><td>51.54298  </td><td> 5.2412200</td><td> 77.26664 </td></tr>\n",
       "\t<tr><td>5         </td><td>49.23160  </td><td> 4.6296740</td><td> 73.12062 </td></tr>\n",
       "\t<tr><td>6         </td><td>51.38015  </td><td>21.6645190</td><td>126.37371 </td></tr>\n",
       "</tbody>\n",
       "</table>\n"
      ],
      "text/latex": [
       "\\begin{tabular}{r|llll}\n",
       " Obs & e & x1 & y\\\\\n",
       "\\hline\n",
       "\t 1          & 47.00774   &  0.3003487 &  57.90879 \\\\\n",
       "\t 2          & 58.86894   & 23.3893148 & 139.03688 \\\\\n",
       "\t 3          & 55.57487   &  9.3985674 &  93.77057 \\\\\n",
       "\t 4          & 51.54298   &  5.2412200 &  77.26664 \\\\\n",
       "\t 5          & 49.23160   &  4.6296740 &  73.12062 \\\\\n",
       "\t 6          & 51.38015   & 21.6645190 & 126.37371 \\\\\n",
       "\\end{tabular}\n"
      ],
      "text/markdown": [
       "\n",
       "Obs | e | x1 | y | \n",
       "|---|---|---|---|---|---|\n",
       "| 1          | 47.00774   |  0.3003487 |  57.90879  | \n",
       "| 2          | 58.86894   | 23.3893148 | 139.03688  | \n",
       "| 3          | 55.57487   |  9.3985674 |  93.77057  | \n",
       "| 4          | 51.54298   |  5.2412200 |  77.26664  | \n",
       "| 5          | 49.23160   |  4.6296740 |  73.12062  | \n",
       "| 6          | 51.38015   | 21.6645190 | 126.37371  | \n",
       "\n",
       "\n"
      ],
      "text/plain": [
       "  Obs e        x1         y        \n",
       "1 1   47.00774  0.3003487  57.90879\n",
       "2 2   58.86894 23.3893148 139.03688\n",
       "3 3   55.57487  9.3985674  93.77057\n",
       "4 4   51.54298  5.2412200  77.26664\n",
       "5 5   49.23160  4.6296740  73.12062\n",
       "6 6   51.38015 21.6645190 126.37371"
      ]
     },
     "metadata": {},
     "output_type": "display_data"
    }
   ],
   "source": [
    "resit2 <- resit %>%\n",
    " mutate(\"y\" = 10 + 3* x1 + e)\n",
    "head(resit2)"
   ]
  },
  {
   "cell_type": "markdown",
   "metadata": {},
   "source": [
    "## Regression \n",
    "\n",
    "You will now have to run a regression with y as a function of x1. Show the summary statistics."
   ]
  },
  {
   "cell_type": "code",
   "execution_count": 45,
   "metadata": {},
   "outputs": [
    {
     "data": {
      "text/plain": [
       "\n",
       "Call:\n",
       "lm(formula = y ~ x1, data = resit2)\n",
       "\n",
       "Residuals:\n",
       "     Min       1Q   Median       3Q      Max \n",
       "-11.1043  -2.6276   0.1408   3.1398   9.8601 \n",
       "\n",
       "Coefficients:\n",
       "            Estimate Std. Error t value Pr(>|t|)    \n",
       "(Intercept) 58.67251    0.94578   62.04   <2e-16 ***\n",
       "x1           3.08451    0.04892   63.05   <2e-16 ***\n",
       "---\n",
       "Signif. codes:  0 '***' 0.001 '**' 0.01 '*' 0.05 '.' 0.1 ' ' 1\n",
       "\n",
       "Residual standard error: 4.606 on 98 degrees of freedom\n",
       "Multiple R-squared:  0.9759,\tAdjusted R-squared:  0.9757 \n",
       "F-statistic:  3975 on 1 and 98 DF,  p-value: < 2.2e-16\n"
      ]
     },
     "metadata": {},
     "output_type": "display_data"
    }
   ],
   "source": [
    "reg1 <- lm(y~x1 , data=resit2)\n",
    "summary(reg1)"
   ]
  },
  {
   "cell_type": "markdown",
   "metadata": {},
   "source": [
    "## Plot\n",
    "\n",
    "Now you have to make a scatter plot of the data:\n",
    "\n",
    "* with x1 on the x-axis\n",
    "* y on the y-axis\n",
    "* the regression line in green, with confidence interval\n",
    "* in a light theme"
   ]
  },
  {
   "cell_type": "code",
   "execution_count": 50,
   "metadata": {},
   "outputs": [
    {
     "data": {},
     "metadata": {},
     "output_type": "display_data"
    },
    {
     "data": {
      "image/png": "[encoded data removed]",
      "text/plain": [
       "plot without title"
      ]
     },
     "metadata": {},
     "output_type": "display_data"
    }
   ],
   "source": [
    "ggplot(data= resit2, aes(x= x1, y = y)) + geom_point() + theme_light() + geom_smooth(method = lm, colour = 'green') "
   ]
  }
 ],
 "metadata": {
  "kernelspec": {
   "display_name": "R",
   "language": "R",
   "name": "ir"
  },
  "language_info": {
   "codemirror_mode": "r",
   "file_extension": ".r",
   "mimetype": "text/x-r-source",
   "name": "R",
   "pygments_lexer": "r",
   "version": "3.4.3"
  }
 },
 "nbformat": 4,
 "nbformat_minor": 2
}
